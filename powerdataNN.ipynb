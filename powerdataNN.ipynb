{
 "cells": [
  {
   "cell_type": "markdown",
   "metadata": {},
   "source": [
    "# Comparing Sequential and Functional Neural Networks in Keras\n",
    "Using the UCI Combined Cycle Power Plant dataset, we predict Net hourly electrical energy output (PE) and Exhaust Vacuum (V) with Temperature (T), Ambient Pressure (AP) and Relative Humidity (RH) as inputs."
   ]
  },
  {
   "cell_type": "code",
   "execution_count": 4,
   "metadata": {},
   "outputs": [],
   "source": [
    "##import libraries\n",
    "import numpy as np\n",
    "import pandas as pd\n",
    "import tensorflow as tf\n",
    "from sklearn.model_selection import train_test_split\n",
    "from sklearn.preprocessing import MinMaxScaler\n",
    "import matplotlib.pyplot as plt\n",
    "##import the dataset \n",
    "\n",
    "df = pd.read_excel('Folds5x2_pp.xlsx')\n",
    "\n",
    "df.head()\n",
    "\n",
    "##define a function to get the outputs of the model\n",
    "\n",
    "def get_outputs(data):\n",
    "\n",
    "    y1 = data.pop('PE')\n",
    "\n",
    "    y1 = np.array(y1)\n",
    "\n",
    "    y2 = data.pop('V')\n",
    "\n",
    "    y2 = np.array(y2)\n",
    "\n",
    "    return y1, y2\n",
    "# Split the data into train and test with 80 train / 20 test\n",
    "\n",
    "train, test = train_test_split(df, test_size=0.2, random_state = 1)\n",
    "\n",
    "\n",
    "\n",
    "\n",
    "##getting the outputs(PE) and (V) of the train and test data \n",
    "\n",
    "y_train = get_outputs(train)\n",
    "\n",
    "y_test = get_outputs(test)\n",
    "\n",
    "###Scaling the inputs\n",
    "\n",
    "min_max=MinMaxScaler()\n",
    "\n",
    "X_train=min_max.fit_transform(train)\n",
    "\n",
    "X_test=min_max.transform(test)\n"
   ]
  },
  {
   "cell_type": "markdown",
   "metadata": {},
   "source": [
    "Building the neural network\n",
    "\n",
    "(Here we are using 2 hidden layers and one branched layer with 10 neurons each)\n"
   ]
  },
  {
   "cell_type": "code",
   "execution_count": 5,
   "metadata": {},
   "outputs": [
    {
     "name": "stdout",
     "output_type": "stream",
     "text": [
      "Model: \"model_1\"\n",
      "__________________________________________________________________________________________________\n",
      " Layer (type)                   Output Shape         Param #     Connected to                     \n",
      "==================================================================================================\n",
      " input_layer (InputLayer)       [(None, 3)]          0           []                               \n",
      "                                                                                                  \n",
      " Layer_1 (Dense)                (None, 10)           40          ['input_layer[0][0]']            \n",
      "                                                                                                  \n",
      " Layer_2 (Dense)                (None, 10)           110         ['Layer_1[0][0]']                \n",
      "                                                                                                  \n",
      " Branched_layer (Dense)         (None, 10)           110         ['Layer_2[0][0]']                \n",
      "                                                                                                  \n",
      " y1_output (Dense)              (None, 1)            11          ['Layer_2[0][0]']                \n",
      "                                                                                                  \n",
      " y2_output (Dense)              (None, 1)            11          ['Branched_layer[0][0]']         \n",
      "                                                                                                  \n",
      "==================================================================================================\n",
      "Total params: 282\n",
      "Trainable params: 282\n",
      "Non-trainable params: 0\n",
      "__________________________________________________________________________________________________\n"
     ]
    }
   ],
   "source": [
    "\n",
    "##Import the libraries for neural networks\n",
    "\n",
    "from tensorflow.keras.models import Model\n",
    "\n",
    "from tensorflow.keras.layers import Input\n",
    "\n",
    "from tensorflow.keras.layers import Dense\n",
    "\n",
    "\n",
    "##define input layer\n",
    "\n",
    "input_layer = Input(shape=(3,),name='input_layer')\n",
    "\n",
    "##Defining 2 hidden layers\n",
    "\n",
    "Layer_1 = Dense(10, activation=\"relu\",name='Layer_1')(input_layer)\n",
    "\n",
    "Layer_2 = Dense(10, activation=\"relu\",name='Layer_2')(Layer_1)\n",
    "\n",
    "##Defining  output layer y1\n",
    "\n",
    "y1_output= Dense(1, activation=\"linear\",name='y1_output')(Layer_2)\n",
    "\n",
    "##Defining Branched layer\n",
    "\n",
    "Branched_layer=Dense(10, activation=\"relu\",name='Branched_layer')(Layer_2)\n",
    "\n",
    "##Defining 2nd output layer y2\n",
    "\n",
    "y2_output= Dense(1, activation=\"linear\",name='y2_output')(Branched_layer)\n",
    "\n",
    "##Defining the model by specifying the input and output layers\n",
    "\n",
    "model = Model(inputs=input_layer,outputs=[y1_output,y2_output])\n",
    "##summary of the model\n",
    "model.summary()"
   ]
  },
  {
   "cell_type": "code",
   "execution_count": 6,
   "metadata": {},
   "outputs": [
    {
     "name": "stdout",
     "output_type": "stream",
     "text": [
      "240/240 [==============================] - 4s 4ms/step - loss: 202911.0938 - y1_output_loss: 200781.8906 - y2_output_loss: 2129.2529\n"
     ]
    },
    {
     "data": {
      "text/plain": [
       "<keras.callbacks.History at 0x2199bfa1970>"
      ]
     },
     "execution_count": 6,
     "metadata": {},
     "output_type": "execute_result"
    }
   ],
   "source": [
    "## defining the optimizer and loss function\n",
    "\n",
    "model.compile(optimizer='adam',\n",
    "\n",
    "              loss={'y1_output':'mse','y2_output':'mse'})\n",
    "\n",
    "##training the model\n",
    "\n",
    "model.fit(X_train,y_train)"
   ]
  },
  {
   "cell_type": "markdown",
   "metadata": {},
   "source": [
    "Now let’s predict energy output and exhaust vacuum on the test data and check the performance"
   ]
  },
  {
   "cell_type": "code",
   "execution_count": 7,
   "metadata": {},
   "outputs": [
    {
     "name": "stdout",
     "output_type": "stream",
     "text": [
      "60/60 [==============================] - 0s 3ms/step\n"
     ]
    },
    {
     "data": {
      "text/plain": [
       "Text(0, 0.5, 'predicted energy output')"
      ]
     },
     "execution_count": 7,
     "metadata": {},
     "output_type": "execute_result"
    },
    {
     "data": {
      "image/png": "[encoded data removed]",
      "text/plain": [
       "<Figure size 432x288 with 1 Axes>"
      ]
     },
     "metadata": {
      "needs_background": "light"
     },
     "output_type": "display_data"
    }
   ],
   "source": [
    "##model predictions\n",
    "\n",
    "predictions = model.predict(X_test)\n",
    "\n",
    "predicted_energy=predictions[0]\n",
    "\n",
    "predicted_vacuum=predictions[1]\n",
    "##Plotting actual vs predicted energy\n",
    "\n",
    "plt.scatter(y_test[0],predicted_energy)\n",
    "\n",
    "plt.xlabel('actual energy output')\n",
    "\n",
    "plt.ylabel('predicted energy output')"
   ]
  },
  {
   "cell_type": "code",
   "execution_count": 8,
   "metadata": {},
   "outputs": [
    {
     "data": {
      "text/plain": [
       "Text(0, 0.5, 'predicted exhaust vacuum')"
      ]
     },
     "execution_count": 8,
     "metadata": {},
     "output_type": "execute_result"
    },
    {
     "data": {
      "image/png": "[encoded data removed]",
      "text/plain": [
       "<Figure size 432x288 with 1 Axes>"
      ]
     },
     "metadata": {
      "needs_background": "light"
     },
     "output_type": "display_data"
    }
   ],
   "source": [
    "##Plotting actual vs predicted exhaust vacuum\n",
    "\n",
    "plt.scatter(y_test[1],predicted_vacuum)\n",
    "\n",
    "plt.xlabel('actual exhaust vacuum')\n",
    "\n",
    "plt.ylabel('predicted exhaust vacuum')"
   ]
  },
  {
   "cell_type": "code",
   "execution_count": 13,
   "metadata": {},
   "outputs": [
    {
     "name": "stdout",
     "output_type": "stream",
     "text": [
      "r2 score for energy predicted : -634.4415878044493\n",
      "r2 score forexhaust vacuum predicted : -1.063497369825456\n"
     ]
    }
   ],
   "source": [
    "# Checking r2 score (coefficient of determination):\n",
    "from sklearn.metrics import r2_score\n",
    "\n",
    "\n",
    "print('r2 score for energy predicted :', r2_score(y_test[0],predicted_energy))\n",
    "\n",
    "print('r2 score forexhaust vacuum predicted :', r2_score(y_test[1],predicted_vacuum))\n"
   ]
  }
 ],
 "metadata": {
  "kernelspec": {
   "display_name": "base",
   "language": "python",
   "name": "python3"
  },
  "language_info": {
   "codemirror_mode": {
    "name": "ipython",
    "version": 3
   },
   "file_extension": ".py",
   "mimetype": "text/x-python",
   "name": "python",
   "nbconvert_exporter": "python",
   "pygments_lexer": "ipython3",
   "version": "3.8.13"
  }
 },
 "nbformat": 4,
 "nbformat_minor": 2
}
